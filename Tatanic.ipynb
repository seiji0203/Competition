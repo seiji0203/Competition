{
 "cells": [
  {
   "cell_type": "code",
   "execution_count": 6,
   "id": "83f810db-668c-40a0-a3cc-4f751abbaf3f",
   "metadata": {},
   "outputs": [],
   "source": [
    "import pandas as pd\n",
    "train = pd.read_csv(\"train.tsv\", sep=\"\\t\", index_col=0) # 学習用データ\n",
    "test = pd.read_csv(\"test.tsv\", sep=\"\\t\", index_col=0)   # 評価用データ\n",
    "sample_submit = pd.read_csv(\"sample_submit.tsv\", sep=\"\\t\", index_col=0, header=None) # 応募用サンプルファイル"
   ]
  },
  {
   "cell_type": "markdown",
   "id": "63a7a929-b5b7-4710-8f8a-e216d8dbbe9b",
   "metadata": {},
   "source": [
    "### explain of data\n",
    "one row represents one passenger's information.<br>\n",
    "there are eight difference columns.<br>\n",
    "survived is the target variable for this prediction<br>\n",
    "1 = survived, 0 = died.<br>"
   ]
  },
  {
   "cell_type": "code",
   "execution_count": 29,
   "id": "f277743f-112d-4481-9fb4-0eea7707e594",
   "metadata": {},
   "outputs": [
    {
     "data": {
      "text/html": [
       "<div>\n",
       "<style scoped>\n",
       "    .dataframe tbody tr th:only-of-type {\n",
       "        vertical-align: middle;\n",
       "    }\n",
       "\n",
       "    .dataframe tbody tr th {\n",
       "        vertical-align: top;\n",
       "    }\n",
       "\n",
       "    .dataframe thead th {\n",
       "        text-align: right;\n",
       "    }\n",
       "</style>\n",
       "<table border=\"1\" class=\"dataframe\">\n",
       "  <thead>\n",
       "    <tr style=\"text-align: right;\">\n",
       "      <th></th>\n",
       "      <th>survived</th>\n",
       "      <th>sibsp</th>\n",
       "      <th>parch</th>\n",
       "      <th>fare</th>\n",
       "    </tr>\n",
       "    <tr>\n",
       "      <th>id</th>\n",
       "      <th></th>\n",
       "      <th></th>\n",
       "      <th></th>\n",
       "      <th></th>\n",
       "    </tr>\n",
       "  </thead>\n",
       "  <tbody>\n",
       "    <tr>\n",
       "      <th>3</th>\n",
       "      <td>1</td>\n",
       "      <td>1</td>\n",
       "      <td>0</td>\n",
       "      <td>53.1000</td>\n",
       "    </tr>\n",
       "    <tr>\n",
       "      <th>4</th>\n",
       "      <td>0</td>\n",
       "      <td>0</td>\n",
       "      <td>0</td>\n",
       "      <td>8.0500</td>\n",
       "    </tr>\n",
       "    <tr>\n",
       "      <th>7</th>\n",
       "      <td>0</td>\n",
       "      <td>3</td>\n",
       "      <td>1</td>\n",
       "      <td>21.0750</td>\n",
       "    </tr>\n",
       "    <tr>\n",
       "      <th>9</th>\n",
       "      <td>1</td>\n",
       "      <td>1</td>\n",
       "      <td>0</td>\n",
       "      <td>30.0708</td>\n",
       "    </tr>\n",
       "    <tr>\n",
       "      <th>11</th>\n",
       "      <td>1</td>\n",
       "      <td>0</td>\n",
       "      <td>0</td>\n",
       "      <td>26.5500</td>\n",
       "    </tr>\n",
       "  </tbody>\n",
       "</table>\n",
       "</div>"
      ],
      "text/plain": [
       "    survived  sibsp  parch     fare\n",
       "id                                 \n",
       "3          1      1      0  53.1000\n",
       "4          0      0      0   8.0500\n",
       "7          0      3      1  21.0750\n",
       "9          1      1      0  30.0708\n",
       "11         1      0      0  26.5500"
      ]
     },
     "execution_count": 29,
     "metadata": {},
     "output_type": "execute_result"
    }
   ],
   "source": [
    "train.head()"
   ]
  },
  {
   "cell_type": "code",
   "execution_count": 30,
   "id": "3e737e45-f4c7-483b-8ce5-4845fdb4988e",
   "metadata": {},
   "outputs": [
    {
     "data": {
      "text/plain": [
       "0    266\n",
       "1    179\n",
       "Name: survived, dtype: int64"
      ]
     },
     "execution_count": 30,
     "metadata": {},
     "output_type": "execute_result"
    }
   ],
   "source": [
    "# number of people who survived\n",
    "train['survived'].value_counts()"
   ]
  },
  {
   "cell_type": "code",
   "execution_count": 31,
   "id": "1d4b2d89-5ed3-43c1-8f01-bd1ccfef41d9",
   "metadata": {},
   "outputs": [
    {
     "name": "stdout",
     "output_type": "stream",
     "text": [
      "0.40224719101123596\n"
     ]
    }
   ],
   "source": [
    "# survival probability\n",
    "a = 179/(179+266)\n",
    "print (a)"
   ]
  },
  {
   "cell_type": "code",
   "execution_count": 32,
   "id": "debf00b0-bd97-4c44-a3d4-def40092ed77",
   "metadata": {},
   "outputs": [],
   "source": [
    "train = train[[\"survived\", \"sibsp\", \"parch\", \"fare\"]]\n",
    "test = test[[\"sibsp\",\"parch\",\"fare\"]]"
   ]
  },
  {
   "cell_type": "code",
   "execution_count": 33,
   "id": "ee746ef0-b55f-4d0d-b25a-220aa2b1c70e",
   "metadata": {},
   "outputs": [],
   "source": [
    "y = train[\"survived\"] # objective variable\n",
    "X = train.drop([\"survived\"], axis=1) # data excluding the target variable"
   ]
  },
  {
   "cell_type": "code",
   "execution_count": 34,
   "id": "1c579b4f-fdea-42eb-bbd2-191f0f461b71",
   "metadata": {},
   "outputs": [
    {
     "data": {
      "text/plain": [
       "LogisticRegression()"
      ]
     },
     "execution_count": 34,
     "metadata": {},
     "output_type": "execute_result"
    }
   ],
   "source": [
    "# LogisticRegression\n",
    "from sklearn.linear_model import LogisticRegression\n",
    "model = LogisticRegression()\n",
    "model.fit(X, y)"
   ]
  },
  {
   "cell_type": "code",
   "execution_count": 35,
   "id": "05f4d3c6-82ca-46a8-8324-bdb4e9e767b7",
   "metadata": {},
   "outputs": [],
   "source": [
    "pred  = model.predict_proba(test)[:, 1]"
   ]
  },
  {
   "cell_type": "code",
   "execution_count": 36,
   "id": "51ed9d22-c631-4f3a-9638-19a50275b5fb",
   "metadata": {},
   "outputs": [
    {
     "name": "stdout",
     "output_type": "stream",
     "text": [
      "[0.27086714 0.52854033 0.32716076 0.32918889 0.50920521 0.40010186\n",
      " 0.33250276 0.32763556 0.32689199 0.3585257  0.34671375 0.30899962\n",
      " 0.39908517 0.34671375 0.32755653 0.95956676 0.40622429 0.8040907\n",
      " 0.57495201 0.44563257 0.32763556 0.25686445 0.28467791 0.27851325\n",
      " 0.32763556 0.29986875 0.26916419 0.30826351 0.25483989 0.32668631\n",
      " 0.55186826 0.584595   0.43895297 0.32452432 0.58044019 0.40622429\n",
      " 0.32695918 0.33701197 0.18384679 0.25431159 0.52915314 0.32611745\n",
      " 0.3270499  0.32763556 0.4758046  0.34466545 0.33316883 0.20473727\n",
      " 0.32763556 0.32763556 0.48498628 0.43536329 0.59035993 0.3270499\n",
      " 0.3270499  0.6469636  0.32993551 0.22511312 0.3270499  0.32659147\n",
      " 0.3270499  0.33209637 0.279728   0.32649663 0.97186165 0.3551241\n",
      " 0.6469636  0.32419356 0.29625991 0.33921196 0.41724239 0.32649663\n",
      " 0.30113777 0.34087678 0.41312933 0.34486028 0.32483937 0.58207953\n",
      " 0.32643329 0.32763556 0.32996716 0.18882767 0.35753455 0.32659147\n",
      " 0.43953662 0.47185806 0.43047571 0.22180878 0.31154475 0.32716076\n",
      " 0.29954433 0.34671375 0.29780893 0.35476583 0.50117466 0.40136247\n",
      " 0.3279248  0.34671375 0.3690089  0.40622429]\n"
     ]
    }
   ],
   "source": [
    "print(pred[:100])"
   ]
  },
  {
   "cell_type": "code",
   "execution_count": 37,
   "id": "cc39a894-cb84-4c33-b049-e4c7f886bfa1",
   "metadata": {},
   "outputs": [],
   "source": [
    "sample_submit[1] = pred\n",
    "sample_submit.to_csv('submit.tsv', header=None, sep='\\t')"
   ]
  },
  {
   "cell_type": "code",
   "execution_count": null,
   "id": "b4bbd747-f9ae-480b-9e21-5760226d844a",
   "metadata": {},
   "outputs": [],
   "source": []
  }
 ],
 "metadata": {
  "kernelspec": {
   "display_name": "Python 3",
   "language": "python",
   "name": "python3"
  },
  "language_info": {
   "codemirror_mode": {
    "name": "ipython",
    "version": 3
   },
   "file_extension": ".py",
   "mimetype": "text/x-python",
   "name": "python",
   "nbconvert_exporter": "python",
   "pygments_lexer": "ipython3",
   "version": "3.8.8"
  }
 },
 "nbformat": 4,
 "nbformat_minor": 5
}
